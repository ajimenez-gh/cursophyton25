{
  "nbformat": 4,
  "nbformat_minor": 0,
  "metadata": {
    "colab": {
      "provenance": [],
      "authorship_tag": "ABX9TyMckVHTB0gC3tLOCm5lQEnE",
      "include_colab_link": true
    },
    "kernelspec": {
      "name": "python3",
      "display_name": "Python 3"
    },
    "language_info": {
      "name": "python"
    }
  },
  "cells": [
    {
      "cell_type": "markdown",
      "metadata": {
        "id": "view-in-github",
        "colab_type": "text"
      },
      "source": [
        "<a href=\"https://colab.research.google.com/github/ajimenez-gh/cursophyton25/blob/main/Unidad_1/Activida1.ipynb\" target=\"_parent\"><img src=\"https://colab.research.google.com/assets/colab-badge.svg\" alt=\"Open In Colab\"/></a>"
      ]
    },
    {
      "cell_type": "code",
      "execution_count": null,
      "metadata": {
        "id": "yfLq1hlbESNC"
      },
      "outputs": [],
      "source": []
    },
    {
      "cell_type": "markdown",
      "source": [
        "#Actividad 1.\n",
        "Luz Alicia Jiménez Portugal"
      ],
      "metadata": {
        "id": "sj0BGeeIRALb"
      }
    },
    {
      "cell_type": "markdown",
      "source": [],
      "metadata": {
        "id": "94cM8PmiQ-MJ"
      }
    },
    {
      "cell_type": "code",
      "source": [
        "import datetime\n",
        "# Hora (Tiempo universal coordinado, UTC) y fecha\n",
        "now = datetime"
      ],
      "metadata": {
        "id": "Zf2d6LSsRNf8"
      },
      "execution_count": null,
      "outputs": []
    },
    {
      "cell_type": "markdown",
      "source": [
        "¿Cual es su opinión sobre el potencial de uso de Phyton en su trabajo académico y de investigación?\n"
      ],
      "metadata": {
        "id": "BwuaIt0cRhaY"
      }
    },
    {
      "cell_type": "code",
      "source": [
        "import sys\n",
        "# Veresion de Phyton\n",
        "print(f\"Versión de Phyton: {sys.version}\")\n",
        "\n",
        "import platform\n",
        "# Parametros del entorno de ejecución (ejemplo con algunas variables de entorno)\n",
        "print(\"\\nParametros del entorno de ejecución:\")\n",
        "print(f\"sistema operativo: {platform.system()}\")\n",
        "print(f\"Nombre del nodo: {platform.node()}\")\n",
        "print(f\"Arquitectura: {platform.architecture()}\")\n",
        "print(f\"Procesador: {platform.processor()}\")"
      ],
      "metadata": {
        "colab": {
          "base_uri": "https://localhost:8080/"
        },
        "id": "KAAuBrRYR6PA",
        "outputId": "20ce2035-18c5-4984-f93c-56e8290d3c6c"
      },
      "execution_count": 5,
      "outputs": [
        {
          "output_type": "stream",
          "name": "stdout",
          "text": [
            "Versión de Phyton: 3.12.11 (main, Jun  4 2025, 08:56:18) [GCC 11.4.0]\n",
            "\n",
            "Parametros del entorno de ejecución:\n",
            "sistema operativo: Linux\n",
            "Nombre del nodo: 6b5c5663b46d\n",
            "Arquitectura: ('64bit', 'ELF')\n",
            "Procesador: x86_64\n"
          ]
        }
      ]
    },
    {
      "cell_type": "code",
      "source": [
        "import platform\n",
        "# Parametros del entorno de ejecución (ejemplo con algunas variables de entorno)\n",
        "print(\"\\nParametros del entorno de ejecución:\")\n",
        "print(f\"sistema operativo: {platform.system()}\")\n",
        "print(f\"Nombre del nodo: {platform.node()}\")\n",
        "print(f\"Arquitectura: {platform.architecture()}\")\n",
        "print(f\"Procesador: {platform.processor()}\")"
      ],
      "metadata": {
        "colab": {
          "base_uri": "https://localhost:8080/"
        },
        "id": "4GOwv_sgSodE",
        "outputId": "0495f915-8335-45aa-934d-f680366ba4ba"
      },
      "execution_count": 4,
      "outputs": [
        {
          "output_type": "stream",
          "name": "stdout",
          "text": [
            "\n",
            "Parametros del entorno de ejecución:\n",
            "sistema operativo: Linux\n",
            "Nombre del nodo: 6b5c5663b46d\n",
            "Arquitectura: ('64bit', 'ELF')\n",
            "Procesador: x86_64\n"
          ]
        }
      ]
    }
  ]
}