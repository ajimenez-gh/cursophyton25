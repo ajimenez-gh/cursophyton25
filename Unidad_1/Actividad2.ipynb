{
  "nbformat": 4,
  "nbformat_minor": 0,
  "metadata": {
    "colab": {
      "provenance": [],
      "authorship_tag": "ABX9TyMBtID2Ee6g05SzvSE3H8vo",
      "include_colab_link": true
    },
    "kernelspec": {
      "name": "python3",
      "display_name": "Python 3"
    },
    "language_info": {
      "name": "python"
    }
  },
  "cells": [
    {
      "cell_type": "markdown",
      "metadata": {
        "id": "view-in-github",
        "colab_type": "text"
      },
      "source": [
        "<a href=\"https://colab.research.google.com/github/ajimenez-gh/cursophyton25/blob/main/Unidad_1/Actividad2.ipynb\" target=\"_parent\"><img src=\"https://colab.research.google.com/assets/colab-badge.svg\" alt=\"Open In Colab\"/></a>"
      ]
    },
    {
      "cell_type": "markdown",
      "source": [
        "#Actividad 2.\n",
        "##Luz Alicia Jiménez Portugal\n",
        "\n",
        "###Centro: CUCSH\n",
        "###Fecha: 17 de septiembre, 2025"
      ],
      "metadata": {
        "id": "sLvWdNReB7tt"
      }
    },
    {
      "cell_type": "code",
      "execution_count": null,
      "metadata": {
        "colab": {
          "base_uri": "https://localhost:8080/"
        },
        "id": "iM-VOAJhBD1q",
        "outputId": "b8d3470c-46fb-452f-88c9-ed0ae37f1282"
      },
      "outputs": [
        {
          "output_type": "stream",
          "name": "stdout",
          "text": [
            "Mounted at /content/drive\n"
          ]
        }
      ],
      "source": [
        "from google.colab import drive\n",
        "drive.mount('/content/drive')"
      ]
    },
    {
      "cell_type": "code",
      "source": [
        "file = \"Mi_ej_texto.txt\"\n",
        "path = \"/content/drive/MyDrive/Colab Data/\"\n",
        "\n",
        "with open(path + file, 'r') as f:\n",
        "    contenido = f.read()\n",
        "    print(contenido)"
      ],
      "metadata": {
        "colab": {
          "base_uri": "https://localhost:8080/"
        },
        "id": "dhqAxq4EHOVX",
        "outputId": "7cd78303-2ead-429c-e635-d715db5e61d9"
      },
      "execution_count": null,
      "outputs": [
        {
          "output_type": "stream",
          "name": "stdout",
          "text": [
            "Mi archivo de texto no tiene información\n",
            "Solo esto es una prueba\n"
          ]
        }
      ]
    }
  ]
}