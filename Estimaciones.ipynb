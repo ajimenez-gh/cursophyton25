{
  "nbformat": 4,
  "nbformat_minor": 0,
  "metadata": {
    "colab": {
      "provenance": [],
      "authorship_tag": "ABX9TyOWOdjIkjQI8g8L6klQoJSN",
      "include_colab_link": true
    },
    "kernelspec": {
      "name": "python3",
      "display_name": "Python 3"
    },
    "language_info": {
      "name": "python"
    }
  },
  "cells": [
    {
      "cell_type": "markdown",
      "metadata": {
        "id": "view-in-github",
        "colab_type": "text"
      },
      "source": [
        "<a href=\"https://colab.research.google.com/github/ajimenez-gh/cursophyton25/blob/main/Estimaciones.ipynb\" target=\"_parent\"><img src=\"https://colab.research.google.com/assets/colab-badge.svg\" alt=\"Open In Colab\"/></a>"
      ]
    },
    {
      "cell_type": "code",
      "source": [
        "#Factura de Hospedaje"
      ],
      "metadata": {
        "id": "_TwF9R6yCdJK"
      },
      "execution_count": null,
      "outputs": []
    },
    {
      "cell_type": "markdown",
      "source": [],
      "metadata": {
        "id": "zmiqPVuICa6P"
      }
    },
    {
      "cell_type": "code",
      "execution_count": 14,
      "metadata": {
        "colab": {
          "base_uri": "https://localhost:8080/"
        },
        "id": "H6ON3rmTBzmQ",
        "outputId": "9dfeed0d-3709-456d-aaf2-5b1c53da49c6"
      },
      "outputs": [
        {
          "output_type": "stream",
          "name": "stdout",
          "text": [
            "¿cuanto cuesta el cuarto?1000\n",
            "¿Cuantos huespedes?4\n",
            "precio total del cuarto: 1160.0, cada huesped pagará: 290.0 pesos\n"
          ]
        }
      ],
      "source": [
        "cuarto_hotel = float(input(\"¿cuanto cuesta el cuarto?\"))\n",
        "iva = cuarto_hotel * 0.16\n",
        "total = cuarto_hotel + iva\n",
        "num_huespedes = int(input (\"¿Cuantos huespedes?\") )\n",
        "\n",
        "precio_por_huesped = round( total / num_huespedes, 2)\n",
        "\n",
        "print(f\"precio total del cuarto: {total}, cada huesped pagará: {precio_por_huesped} pesos\")\n",
        "\n",
        "\n"
      ]
    }
  ]
}