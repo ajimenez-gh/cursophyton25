{
  "nbformat": 4,
  "nbformat_minor": 0,
  "metadata": {
    "colab": {
      "provenance": [],
      "authorship_tag": "ABX9TyNkRYg1dipF1UqMncFmMQ4x",
      "include_colab_link": true
    },
    "kernelspec": {
      "name": "python3",
      "display_name": "Python 3"
    },
    "language_info": {
      "name": "python"
    }
  },
  "cells": [
    {
      "cell_type": "markdown",
      "metadata": {
        "id": "view-in-github",
        "colab_type": "text"
      },
      "source": [
        "<a href=\"https://colab.research.google.com/github/ajimenez-gh/cursophyton25/blob/main/Ejemplos_de_clase_Unidad_2_pptIV.ipynb\" target=\"_parent\"><img src=\"https://colab.research.google.com/assets/colab-badge.svg\" alt=\"Open In Colab\"/></a>"
      ]
    },
    {
      "cell_type": "code",
      "execution_count": 21,
      "metadata": {
        "colab": {
          "base_uri": "https://localhost:8080/"
        },
        "id": "jHTjzzryJpf7",
        "outputId": "c5fc754f-55af-4da9-cc78-c85bb71e2038"
      },
      "outputs": [
        {
          "output_type": "stream",
          "name": "stdout",
          "text": [
            "La crisis se produce cuando lo viejo no acaba de morir y lo nuevo no acaba de nacer. _Bertol Brecht-\n",
            "c\n",
            "-\n",
            "d\n",
            "100\n",
            "La crisis\n",
            "e nacer. _Bertol Brecht-\n"
          ]
        }
      ],
      "source": [
        "frase = \"La crisis se produce cuando lo viejo no acaba de morir y lo nuevo no acaba de nacer. _Bertol Brecht-\"\n",
        "print(frase)\n",
        "print(frase[3])\n",
        "print(frase[-1])\n",
        "print(frase[46])\n",
        "print(len(frase))\n",
        "print(frase[0:9])\n",
        "print(frase[76:])"
      ]
    },
    {
      "cell_type": "code",
      "source": [
        "fruto = \"papaya\"\n",
        "parte_1 = fruto[:4]\n",
        "parte_2 = fruto[4:]\n",
        "print(parte_1 + parte_2)\n",
        "print(parte_1)\n",
        "print(parte_2)\n",
        "print(fruto)"
      ],
      "metadata": {
        "colab": {
          "base_uri": "https://localhost:8080/"
        },
        "id": "ISRi5jzqMXrk",
        "outputId": "2eeb0520-d4ee-4aed-8cda-7226140e405c"
      },
      "execution_count": 15,
      "outputs": [
        {
          "output_type": "stream",
          "name": "stdout",
          "text": [
            "papaya\n",
            "papa\n",
            "ya\n",
            "papaya\n"
          ]
        }
      ]
    },
    {
      "cell_type": "code",
      "source": [
        "print(\"crisis\" in frase)"
      ],
      "metadata": {
        "colab": {
          "base_uri": "https://localhost:8080/"
        },
        "id": "gSwlmf_KNupM",
        "outputId": "daf3ead6-dbba-4eb7-b6ac-84e898dbc408"
      },
      "execution_count": 16,
      "outputs": [
        {
          "output_type": "stream",
          "name": "stdout",
          "text": [
            "True\n"
          ]
        }
      ]
    },
    {
      "cell_type": "code",
      "source": [
        "print (frase.upper())\n",
        "print (frase.lower())\n",
        "print (frase)"
      ],
      "metadata": {
        "colab": {
          "base_uri": "https://localhost:8080/"
        },
        "id": "4-WgxZSuOROx",
        "outputId": "3b190a90-657c-485a-a268-0528ffc9392a"
      },
      "execution_count": 22,
      "outputs": [
        {
          "output_type": "stream",
          "name": "stdout",
          "text": [
            "LA CRISIS SE PRODUCE CUANDO LO VIEJO NO ACABA DE MORIR Y LO NUEVO NO ACABA DE NACER. _BERTOL BRECHT-\n",
            "la crisis se produce cuando lo viejo no acaba de morir y lo nuevo no acaba de nacer. _bertol brecht-\n",
            "La crisis se produce cuando lo viejo no acaba de morir y lo nuevo no acaba de nacer. _Bertol Brecht-\n"
          ]
        }
      ]
    },
    {
      "cell_type": "code",
      "source": [
        "frutos = [\"piña\",\"manzana\",\"uva\",\"pera\",\"guayaba\",\"papaya\",\"naranja\",\"frutos rojos\"]\n",
        "\n",
        "frutos.append(\"ciruela\")\n",
        "frutos.insert(3, \"coco\")\n",
        "frutos.sort()\n",
        "print(frutos)\n"
      ],
      "metadata": {
        "colab": {
          "base_uri": "https://localhost:8080/"
        },
        "id": "BSqf8d_wQYGy",
        "outputId": "1c3079b8-5407-42ca-c0cc-82a0306e7f19"
      },
      "execution_count": 33,
      "outputs": [
        {
          "output_type": "stream",
          "name": "stdout",
          "text": [
            "['ciruela', 'coco', 'frutos rojos', 'guayaba', 'manzana', 'naranja', 'papaya', 'pera', 'piña', 'uva']\n"
          ]
        }
      ]
    },
    {
      "cell_type": "code",
      "source": [
        "alumnos = {\"Juan\":80,\"Pableo\": 95, \"Martha\":100}\n",
        "print(alumnos)\n",
        "alumnos[\"Mariana\"]= 75\n",
        "alumnos[\"Juancho\"]= 84"
      ],
      "metadata": {
        "colab": {
          "base_uri": "https://localhost:8080/"
        },
        "id": "q5cb2HjTcbPx",
        "outputId": "70f70cbb-145f-44d8-f403-effffa44352c"
      },
      "execution_count": 37,
      "outputs": [
        {
          "output_type": "stream",
          "name": "stdout",
          "text": [
            "{'Juan': 80, 'Pableo': 95, 'Martha': 100}\n"
          ]
        }
      ]
    }
  ]
}