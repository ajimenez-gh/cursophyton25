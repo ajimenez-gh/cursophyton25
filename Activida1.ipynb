{
  "nbformat": 4,
  "nbformat_minor": 0,
  "metadata": {
    "colab": {
      "provenance": [],
      "authorship_tag": "ABX9TyMMkyf5TO5rY7942Pi7pink",
      "include_colab_link": true
    },
    "kernelspec": {
      "name": "python3",
      "display_name": "Python 3"
    },
    "language_info": {
      "name": "python"
    }
  },
  "cells": [
    {
      "cell_type": "markdown",
      "metadata": {
        "id": "view-in-github",
        "colab_type": "text"
      },
      "source": [
        "<a href=\"https://colab.research.google.com/github/ajimenez-gh/cursophyton25/blob/main/Activida1.ipynb\" target=\"_parent\"><img src=\"https://colab.research.google.com/assets/colab-badge.svg\" alt=\"Open In Colab\"/></a>"
      ]
    },
    {
      "cell_type": "markdown",
      "source": [
        "#Actividad 1.\n",
        "##Luz Alicia Jiménez Portugal\n",
        "\n",
        "Centro: CUCSH\n",
        "Fecha: 9 de septiembre, 2025"
      ],
      "metadata": {
        "id": "sj0BGeeIRALb"
      }
    },
    {
      "cell_type": "markdown",
      "source": [],
      "metadata": {
        "id": "94cM8PmiQ-MJ"
      }
    },
    {
      "cell_type": "code",
      "source": [
        "import datetime\n",
        "# Hora (Tiempo universal coordinado, UTC) y fecha\n",
        "now = datetime.datetime.now()\n",
        "print(f\"Fecha y hora (UTC): {now.strftime('%d/%m/%Y,%H:%M:%S')}\")"
      ],
      "metadata": {
        "colab": {
          "base_uri": "https://localhost:8080/"
        },
        "id": "Zf2d6LSsRNf8",
        "outputId": "b4c20354-6e3e-4e44-f51a-0920a2b49295"
      },
      "execution_count": 1,
      "outputs": [
        {
          "output_type": "stream",
          "name": "stdout",
          "text": [
            "Fecha y hora (UTC): 11/09/2025,19:17:51\n"
          ]
        }
      ]
    },
    {
      "cell_type": "markdown",
      "source": [
        "#¿Cual es su opinión sobre el potencial de uso de Phyton en su trabajo académico y de investigación?\n",
        "\n",
        "*Aún requiero conocer más a Phyton para poder darme una idea clara de su potencial de aplicación en mi área de conocimiento.  \n",
        "*Tengo entendido que me ayudará a realizar el análisis de datos econométrico a bajo costo, ya que podrá tener acceso a herramientas gratuitas y seguras para ello.  Espero que así sea.\n"
      ],
      "metadata": {
        "id": "BwuaIt0cRhaY"
      }
    },
    {
      "cell_type": "code",
      "source": [
        "import sys\n",
        "# Veresion de Phyton\n",
        "print(f\"Versión de Phyton: {sys.version}\")\n",
        "\n",
        "import platform\n",
        "# Parametros del entorno de ejecución (ejemplo con algunas variables de entorno)\n",
        "print(\"\\nParametros del entorno de ejecución:\")\n",
        "print(f\"sistema operativo: {platform.system()}\")\n",
        "print(f\"Nombre del nodo: {platform.node()}\")\n",
        "print(f\"Arquitectura: {platform.architecture()}\")\n",
        "print(f\"Procesador: {platform.processor()}\")"
      ],
      "metadata": {
        "colab": {
          "base_uri": "https://localhost:8080/"
        },
        "id": "KAAuBrRYR6PA",
        "outputId": "d74dfdf9-9dfc-4cdd-a778-a11dbaf9711e"
      },
      "execution_count": 2,
      "outputs": [
        {
          "output_type": "stream",
          "name": "stdout",
          "text": [
            "Versión de Phyton: 3.12.11 (main, Jun  4 2025, 08:56:18) [GCC 11.4.0]\n",
            "\n",
            "Parametros del entorno de ejecución:\n",
            "sistema operativo: Linux\n",
            "Nombre del nodo: 4a642fcb41b8\n",
            "Arquitectura: ('64bit', 'ELF')\n",
            "Procesador: x86_64\n"
          ]
        }
      ]
    }
  ]
}