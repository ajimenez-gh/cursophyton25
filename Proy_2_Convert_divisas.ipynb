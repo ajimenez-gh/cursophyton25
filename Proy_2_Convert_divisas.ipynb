{
  "nbformat": 4,
  "nbformat_minor": 0,
  "metadata": {
    "colab": {
      "provenance": [],
      "authorship_tag": "ABX9TyNeDDURbKYrjQSmSF/5rw4J",
      "include_colab_link": true
    },
    "kernelspec": {
      "name": "python3",
      "display_name": "Python 3"
    },
    "language_info": {
      "name": "python"
    }
  },
  "cells": [
    {
      "cell_type": "markdown",
      "metadata": {
        "id": "view-in-github",
        "colab_type": "text"
      },
      "source": [
        "<a href=\"https://colab.research.google.com/github/ajimenez-gh/cursophyton25/blob/main/Proy_2_Convert_divisas.ipynb\" target=\"_parent\"><img src=\"https://colab.research.google.com/assets/colab-badge.svg\" alt=\"Open In Colab\"/></a>"
      ]
    },
    {
      "cell_type": "code",
      "execution_count": null,
      "metadata": {
        "colab": {
          "base_uri": "https://localhost:8080/"
        },
        "id": "XBUb3JGSuMg5",
        "outputId": "a338659e-ed87-4b15-a00a-c3f2a8f801ce"
      },
      "outputs": [
        {
          "name": "stdout",
          "output_type": "stream",
          "text": [
            "devisa origen: eur\n"
          ]
        }
      ],
      "source": [
        "import json\n",
        "import requests\n",
        "\n",
        "def currency_search(cur):\n",
        "    r = requests.get(\"http://www.floatrates.com/daily/{}.json\".format(cur))\n",
        "    return r.text\n",
        "\n",
        "devisa_origen= str(input(\"devisa origen: \"))\n",
        "exchange_file = currency_search(devisa_origen)\n",
        "exchange_dict = json.loads(exchange_file)\n"
      ]
    },
    {
      "cell_type": "code",
      "source": [
        "divisa_destino= str(input(\"devisa destino: \"))\n",
        "\n",
        "cantidad= float(input(\"cantidad:\"))"
      ],
      "metadata": {
        "colab": {
          "base_uri": "https://localhost:8080/"
        },
        "id": "TSzCSbTyvi8x",
        "outputId": "3e8d1211-ca10-4b77-9a09-9b83f8685c93"
      },
      "execution_count": null,
      "outputs": [
        {
          "name": "stdout",
          "output_type": "stream",
          "text": [
            "devisa destino: usd\n",
            "cantidad:100\n"
          ]
        }
      ]
    },
    {
      "cell_type": "code",
      "source": [
        "#consulta sobre info de tasa de cambio\n",
        "cambio=exchange_dict[divisa_destino][\"rate\"]\n",
        "print(\"Curso de cambio: {:.3f}\".format(cambio))# tambien se puede implementar con format\n",
        "resultado = round(cantidad * cambio, 3)\n",
        "print(resultado)"
      ],
      "metadata": {
        "colab": {
          "base_uri": "https://localhost:8080/"
        },
        "id": "Ep3eCM1czJf-",
        "outputId": "42dd4fc7-95f9-4309-c81e-cc35acdf3a46"
      },
      "execution_count": null,
      "outputs": [
        {
          "output_type": "stream",
          "name": "stdout",
          "text": [
            "Curso de cambio: 1.169\n",
            "116.898\n"
          ]
        }
      ]
    }
  ]
}