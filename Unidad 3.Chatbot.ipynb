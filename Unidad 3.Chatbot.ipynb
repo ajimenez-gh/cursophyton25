{
  "nbformat": 4,
  "nbformat_minor": 0,
  "metadata": {
    "colab": {
      "provenance": [],
      "authorship_tag": "ABX9TyNNZJBW7kbJ0NDKISUNZkNr",
      "include_colab_link": true
    },
    "kernelspec": {
      "name": "python3",
      "display_name": "Python 3"
    },
    "language_info": {
      "name": "python"
    }
  },
  "cells": [
    {
      "cell_type": "markdown",
      "metadata": {
        "id": "view-in-github",
        "colab_type": "text"
      },
      "source": [
        "<a href=\"https://colab.research.google.com/github/ajimenez-gh/cursophyton25/blob/main/Unidad%203.Chatbot.ipynb\" target=\"_parent\"><img src=\"https://colab.research.google.com/assets/colab-badge.svg\" alt=\"Open In Colab\"/></a>"
      ]
    },
    {
      "cell_type": "code",
      "execution_count": null,
      "metadata": {
        "id": "YFw5NrF0DOoF"
      },
      "outputs": [],
      "source": []
    },
    {
      "cell_type": "markdown",
      "source": [
        "#Luz Alicia Jiménez Portugal\n",
        "## Proyecto Chatbot simple"
      ],
      "metadata": {
        "id": "crjUsfC7x4A9"
      }
    },
    {
      "cell_type": "code",
      "metadata": {
        "colab": {
          "base_uri": "https://localhost:8080/"
        },
        "id": "W5_s61M8p9sR",
        "outputId": "d0c6db35-b533-4e1e-be86-50914857f003"
      },
      "source": [
        "print(\"Soy un ChatBot\")\n",
        "username = input(\"Please enter your username: \")\n",
        "print(f\"Hello, {username}! Welcome.\")"
      ],
      "execution_count": null,
      "outputs": [
        {
          "output_type": "stream",
          "name": "stdout",
          "text": [
            "Soy un ChatBot\n",
            "Por favor, introduce tu nombre de usuario: Lucy\n",
            "¡Hola, Lucy! Bienvenido.\n"
          ]
        }
      ]
    },
    {
      "cell_type": "markdown",
      "metadata": {
        "id": "71b34d0c"
      },
      "source": [
        "# Task\n",
        "Implementar un componente que hace una serie de preguntas para adivinar la edad de un personaje ficticio. Primera pregunta: \"¿Cuál es el residuo de la división de su edad entre 3?\", segunda pregunta \"¿Cuál es el residuo de la división de su edad entre 5?\", tercera pregunta \"¿Cuál es el residuo de la división de su edad entre 7?\". Posterior a las preguntas calcular la edad probable del personaje ficticio con la fórmula Edad = (residuo_3 * 70 + residuo_5 * 21 + residuo_7 * 15) mod 105. Posterior a esto imprimir la edad calculada."
      ]
    },
    {
      "cell_type": "markdown",
      "metadata": {
        "id": "7b8c965c"
      },
      "source": [
        "## Ask for remainders\n",
        "\n",
        "### Subtask:\n",
        "Ask the user for the remainders when the fictional character's age is divided by 3, 5, and 7.\n"
      ]
    },
    {
      "cell_type": "markdown",
      "metadata": {
        "id": "1d7ca8b8"
      },
      "source": [
        "**Reasoning**:\n",
        "The subtask requires asking the user for three remainders and storing them as integers. I will use `input()` to get the remainders from the user and `int()` to convert them to integers.\n",
        "\n"
      ]
    },
    {
      "cell_type": "code",
      "metadata": {
        "colab": {
          "base_uri": "https://localhost:8080/"
        },
        "id": "cb1c1e56",
        "outputId": "f48f6899-a213-4fcd-f720-0df422e63da4"
      },
      "source": [
        "remainder_3 = int(input(\"¿Cuál es el residuo de la división de su edad entre 3? \"))\n",
        "remainder_5 = int(input(\"¿Cuál es el residuo de la división de su edad entre 5? \"))\n",
        "remainder_7 = int(input(\"¿Cuál es el residuo de la división de su edad entre 7? \"))"
      ],
      "execution_count": null,
      "outputs": [
        {
          "name": "stdout",
          "output_type": "stream",
          "text": [
            "¿Cuál es el residuo de la división de su edad entre 3? 2\n",
            "¿Cuál es el residuo de la división de su edad entre 5? 4\n",
            "¿Cuál es el residuo de la división de su edad entre 7? 3\n"
          ]
        }
      ]
    },
    {
      "cell_type": "code",
      "source": [],
      "metadata": {
        "id": "Q1AjHiblFvrt"
      },
      "execution_count": null,
      "outputs": []
    },
    {
      "cell_type": "markdown",
      "source": [],
      "metadata": {
        "id": "VeV6LJERF3Xz"
      }
    },
    {
      "cell_type": "markdown",
      "metadata": {
        "id": "64e37eda"
      },
      "source": [
        "## Calculate the age\n",
        "\n",
        "### Subtask:\n",
        "Calculate the probable age using the provided formula: Edad = (residuo_3 * 70 + residuo_5 * 21 + residuo_7 * 15) mod 105.\n"
      ]
    },
    {
      "cell_type": "markdown",
      "metadata": {
        "id": "131d9201"
      },
      "source": [
        "**Reasoning**:\n",
        "Calculate the probable age using the given formula and store it in the `age` variable.\n",
        "\n"
      ]
    },
    {
      "cell_type": "markdown",
      "metadata": {
        "id": "29e9cc12"
      },
      "source": [
        "# Task\n",
        "Implementar un componente que presenta y aplica una pregunta de opción múltiple. La pregunta es: \"¿Cuál de las siguientes afirmaciones es correcta sobre la ciudad de Guadalajara?\" Posibles respuestas: 1) Es la capital de México, 2) Fue fundada en 1921, 3) Se ubica en el estado de Guerrero, 4) Es conocida como \"La Perla Tapatía\". La respuesta correcta es 4. Presenta la pregunta y opciones de respuesta y solicita que el usuario introduce numero de la respuesta. En caso que su respuesta no es correcta, informa sobre esto y repite la pregunta. En caso que es correcta felicita al usuario. Usa bucle while para implementar el codigo."
      ]
    },
    {
      "cell_type": "markdown",
      "metadata": {
        "id": "0eaf4f04"
      },
      "source": [
        "## Define the question and options\n",
        "\n",
        "### Subtask:\n",
        "Store the question and the multiple-choice options.\n"
      ]
    },
    {
      "cell_type": "markdown",
      "metadata": {
        "id": "20161232"
      },
      "source": [
        "**Reasoning**:\n",
        "Store the question, options, and correct answer as variables as requested by the subtask.\n",
        "\n"
      ]
    },
    {
      "cell_type": "code",
      "metadata": {
        "id": "937a44bf"
      },
      "source": [
        "question = \"¿Cuál de las siguientes afirmaciones es correcta sobre la ciudad de Guadalajara?\"\n",
        "options = [\n",
        "    \"1) Es la capital de México\",\n",
        "    \"2) Fue fundada en 1921\",\n",
        "    \"3) Se ubica en el estado de Guerrero\",\n",
        "    \"4) Es conocida como \\\"La Perla Tapatía\\\"\"\n",
        "]\n",
        "correct_answer = 4"
      ],
      "execution_count": null,
      "outputs": []
    },
    {
      "cell_type": "markdown",
      "metadata": {
        "id": "632eeddb"
      },
      "source": [
        "## Implement the question loop\n",
        "\n",
        "### Subtask:\n",
        "Use a `while` loop to repeatedly ask the question until the correct answer is given.\n"
      ]
    },
    {
      "cell_type": "markdown",
      "metadata": {
        "id": "a2184f76"
      },
      "source": [
        "**Reasoning**:\n",
        "Initialize a boolean variable to control the while loop and start the while loop.\n",
        "\n"
      ]
    },
    {
      "cell_type": "code",
      "metadata": {
        "id": "f4ab5bdc"
      },
      "source": [
        "correctly_answered = False\n",
        "while not correctly_answered:\n",
        "    # The code to ask the question and check the answer will go here in the next steps\n",
        "    pass # Placeholder for the loop body"
      ],
      "execution_count": null,
      "outputs": []
    },
    {
      "cell_type": "markdown",
      "metadata": {
        "id": "0f074f8b"
      },
      "source": [
        "**Reasoning**:\n",
        "Print the question and the options inside the while loop.\n",
        "\n"
      ]
    },
    {
      "cell_type": "code",
      "metadata": {
        "id": "daf3f623"
      },
      "source": [
        "correctly_answered = False\n",
        "while not correctly_answered:\n",
        "    print(question)\n",
        "    for option in options:\n",
        "        print(option)\n",
        "    # The code to get user input and check the answer will go here in the next steps\n",
        "    pass # Placeholder for the loop body"
      ],
      "execution_count": null,
      "outputs": []
    },
    {
      "cell_type": "markdown",
      "metadata": {
        "id": "388bfe3e"
      },
      "source": [
        "**Reasoning**:\n",
        "Get the user's answer as input and convert it to an integer.\n",
        "\n"
      ]
    },
    {
      "cell_type": "code",
      "metadata": {
        "id": "65984e88"
      },
      "source": [
        "correctly_answered = False\n",
        "while not correctly_answered:\n",
        "    print(question)\n",
        "    for option in options:\n",
        "        print(option)\n",
        "    user_answer = int(input(\"Enter the number of your answer: \"))\n",
        "    # The code to check the answer will go here in the next steps\n",
        "    pass # Placeholder for the loop body"
      ],
      "execution_count": null,
      "outputs": []
    },
    {
      "cell_type": "markdown",
      "metadata": {
        "id": "d3b25940"
      },
      "source": [
        "**Reasoning**:\n",
        "Check if the user's answer is correct and update the `correctly_answered` variable accordingly. Also, provide feedback to the user.\n",
        "\n"
      ]
    },
    {
      "cell_type": "code",
      "metadata": {
        "id": "5c599939"
      },
      "source": [
        "correctly_answered = False\n",
        "while not correctly_answered:\n",
        "    print(question)\n",
        "    for option in options:\n",
        "        print(option)\n",
        "    try:\n",
        "        user_answer = int(input(\"Enter the number of your answer: \"))\n",
        "        if user_answer == correct_answer:\n",
        "            print(\"Correct! Well done!\")\n",
        "            correctly_answered = True\n",
        "        else:\n",
        "            print(\"Incorrect answer. Please try again.\")\n",
        "    except ValueError:\n",
        "        print(\"Invalid input. Please enter a number.\")"
      ],
      "execution_count": null,
      "outputs": []
    }
  ]
}