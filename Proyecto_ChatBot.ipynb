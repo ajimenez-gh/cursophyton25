{
  "nbformat": 4,
  "nbformat_minor": 0,
  "metadata": {
    "colab": {
      "provenance": [],
      "authorship_tag": "ABX9TyMaoeYgs+a/o3h/MSgAIBO3",
      "include_colab_link": true
    },
    "kernelspec": {
      "name": "python3",
      "display_name": "Python 3"
    },
    "language_info": {
      "name": "python"
    }
  },
  "cells": [
    {
      "cell_type": "markdown",
      "metadata": {
        "id": "view-in-github",
        "colab_type": "text"
      },
      "source": [
        "<a href=\"https://colab.research.google.com/github/ajimenez-gh/cursophyton25/blob/main/Proyecto_ChatBot.ipynb\" target=\"_parent\"><img src=\"https://colab.research.google.com/assets/colab-badge.svg\" alt=\"Open In Colab\"/></a>"
      ]
    },
    {
      "cell_type": "markdown",
      "source": [
        "# Actividad 3\n",
        "## 24 de septiembre, 2025\n",
        "# Luz Alicia Jiménez Portugal\n",
        "## Análisis y visualización de datos con Python en la nube\n",
        "## CUCSH - PROINNOVA\n",
        "\n",
        "```\n",
        "# Esto tiene formato de código\n",
        "```\n",
        "\n"
      ],
      "metadata": {
        "id": "W6lHkWnYMNVP"
      }
    },
    {
      "cell_type": "code",
      "source": [
        "# def, sirve para definir una variable\n",
        "\n",
        "def t_convert(temp):\n",
        "\n",
        "# la formula para convertir C a F\n",
        "  resultado = (temp * 9/5) + 32\n",
        "  return resultado\n",
        "\n",
        "\n",
        "print(t_convert(float(input(\"Escribe temp en celcius: \"))))"
      ],
      "metadata": {
        "colab": {
          "base_uri": "https://localhost:8080/"
        },
        "id": "MUD6KHEJMTvF",
        "outputId": "2eb2e84b-5a59-406f-a05b-c8715949db44"
      },
      "execution_count": 25,
      "outputs": [
        {
          "output_type": "stream",
          "name": "stdout",
          "text": [
            "Escribe temp en celcius: 41\n",
            "105.8\n"
          ]
        }
      ]
    },
    {
      "cell_type": "markdown",
      "source": [
        "Usar el def para crear el bot"
      ],
      "metadata": {
        "id": "6oAyjaZGQtBm"
      }
    },
    {
      "cell_type": "code",
      "source": [
        "def Saludo (nombre, campus):\n",
        "  print(\"\\nBienvenidos, \" + nombre) # \\n me sirve para cambio de línea; el + sirve para agregar la variable nombre o campus\n",
        "  print(\"Su campus es \" + campus)\n",
        "\n",
        "Saludo(\"Slava\", \"CUCBA\")\n",
        "Saludo(\"Iván\", \"CUCEA\")\n",
        "\n"
      ],
      "metadata": {
        "colab": {
          "base_uri": "https://localhost:8080/"
        },
        "id": "v_pdN_XZQ0j2",
        "outputId": "13cdacc2-66fd-4574-cb38-8f1dbc4f9e93"
      },
      "execution_count": 33,
      "outputs": [
        {
          "output_type": "stream",
          "name": "stdout",
          "text": [
            "\n",
            "Bienvenidos, Slava\n",
            "Su campus es CUCBA\n",
            "\n",
            "Bienvenidos, Iván\n",
            "Su campus es CUCEA\n"
          ]
        }
      ]
    },
    {
      "cell_type": "code",
      "source": [
        "# Def para definir un separador de lineas\n",
        "def imprime_separador():\n",
        "  print(\".\" * 30)\n",
        "\n",
        "\n",
        "imprime_separador()\n",
        "print(\"Hola\")\n",
        "imprime_separador()"
      ],
      "metadata": {
        "colab": {
          "base_uri": "https://localhost:8080/"
        },
        "id": "p0RbKWDlS-C-",
        "outputId": "171e5db3-66ab-44a1-a103-2d20ec7dc48f"
      },
      "execution_count": 30,
      "outputs": [
        {
          "output_type": "stream",
          "name": "stdout",
          "text": [
            "..............................\n",
            "Hola\n",
            "..............................\n"
          ]
        }
      ]
    }
  ]
}