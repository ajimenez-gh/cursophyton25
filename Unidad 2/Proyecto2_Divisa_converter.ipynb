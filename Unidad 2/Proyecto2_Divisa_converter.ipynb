{
  "nbformat": 4,
  "nbformat_minor": 0,
  "metadata": {
    "colab": {
      "provenance": [],
      "authorship_tag": "ABX9TyPkEPLTi+y1SSbuQv+rYJyQ",
      "include_colab_link": true
    },
    "kernelspec": {
      "name": "python3",
      "display_name": "Python 3"
    },
    "language_info": {
      "name": "python"
    }
  },
  "cells": [
    {
      "cell_type": "markdown",
      "metadata": {
        "id": "view-in-github",
        "colab_type": "text"
      },
      "source": [
        "<a href=\"https://colab.research.google.com/github/ajimenez-gh/cursophyton25/blob/main/Unidad%202/Proyecto2_Divisa_converter.ipynb\" target=\"_parent\"><img src=\"https://colab.research.google.com/assets/colab-badge.svg\" alt=\"Open In Colab\"/></a>"
      ]
    },
    {
      "cell_type": "code",
      "execution_count": null,
      "metadata": {
        "id": "NMW3VSiIfAxZ"
      },
      "outputs": [],
      "source": []
    },
    {
      "cell_type": "markdown",
      "source": [
        "#La siguiente sección es un convertidor de divisas\n",
        "\n",
        "##Luz Alicia Jiménez Portugal"
      ],
      "metadata": {
        "id": "VuoeLNxcfJXt"
      }
    },
    {
      "cell_type": "code",
      "source": [
        "import json\n",
        "import requests\n",
        "\n",
        "def currency_search(cur):\n",
        "  r= requests.get(\"http://www.floatrates.com/daily/{} .json\".format(cur))\n",
        "  return r.text\n",
        "\n",
        "  divisa_origen = input (\"introduce la divisa de origen: \")\n",
        "  divisa_destino = input (\"introduce la divisa de destino: \")\n",
        "  exchange_file = json.loads(currency_search(\"USD\"))\n",
        "  print(exchange_file)\n"
      ],
      "metadata": {
        "id": "VFrvhQ1lfPMr"
      },
      "execution_count": null,
      "outputs": []
    }
  ]
}