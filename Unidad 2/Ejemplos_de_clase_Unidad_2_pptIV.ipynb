{
  "nbformat": 4,
  "nbformat_minor": 0,
  "metadata": {
    "colab": {
      "provenance": [],
      "include_colab_link": true
    },
    "kernelspec": {
      "name": "python3",
      "display_name": "Python 3"
    },
    "language_info": {
      "name": "python"
    }
  },
  "cells": [
    {
      "cell_type": "markdown",
      "metadata": {
        "id": "view-in-github",
        "colab_type": "text"
      },
      "source": [
        "<a href=\"https://colab.research.google.com/github/ajimenez-gh/cursophyton25/blob/main/Unidad%202/Ejemplos_de_clase_Unidad_2_pptIV.ipynb\" target=\"_parent\"><img src=\"https://colab.research.google.com/assets/colab-badge.svg\" alt=\"Open In Colab\"/></a>"
      ]
    },
    {
      "cell_type": "code",
      "execution_count": 1,
      "metadata": {
        "colab": {
          "base_uri": "https://localhost:8080/"
        },
        "id": "jHTjzzryJpf7",
        "outputId": "339b53c9-0fa2-4528-da5b-9c4cb78bf293"
      },
      "outputs": [
        {
          "output_type": "stream",
          "name": "stdout",
          "text": [
            "La crisis se produce cuando lo viejo no acaba de morir y lo nuevo no acaba de nacer. - Bertol Brecht -\n",
            "c\n",
            "-\n",
            "d\n",
            "102\n",
            "La crisis\n",
            "e nacer. - Bertol Brecht -\n"
          ]
        }
      ],
      "source": [
        "frase = \"La crisis se produce cuando lo viejo no acaba de morir y lo nuevo no acaba de nacer. - Bertol Brecht -\"\n",
        "print(frase)\n",
        "print(frase[3])\n",
        "print(frase[-1])\n",
        "print(frase[46])\n",
        "print(len(frase))\n",
        "print(frase[0:9])\n",
        "print(frase[76:])"
      ]
    },
    {
      "cell_type": "code",
      "source": [
        "fruto = \"papaya\"\n",
        "parte_1 = fruto[:4]\n",
        "parte_2 = fruto[4:]\n",
        "print(parte_1 + parte_2)\n",
        "print(parte_1)\n",
        "print(parte_2)\n",
        "print(fruto)"
      ],
      "metadata": {
        "colab": {
          "base_uri": "https://localhost:8080/"
        },
        "id": "ISRi5jzqMXrk",
        "outputId": "2eeb0520-d4ee-4aed-8cda-7226140e405c"
      },
      "execution_count": null,
      "outputs": [
        {
          "output_type": "stream",
          "name": "stdout",
          "text": [
            "papaya\n",
            "papa\n",
            "ya\n",
            "papaya\n"
          ]
        }
      ]
    },
    {
      "cell_type": "code",
      "source": [
        "print(\"crisis\" in frase)"
      ],
      "metadata": {
        "colab": {
          "base_uri": "https://localhost:8080/"
        },
        "id": "gSwlmf_KNupM",
        "outputId": "daf3ead6-dbba-4eb7-b6ac-84e898dbc408"
      },
      "execution_count": null,
      "outputs": [
        {
          "output_type": "stream",
          "name": "stdout",
          "text": [
            "True\n"
          ]
        }
      ]
    },
    {
      "cell_type": "code",
      "source": [
        "print (frase.upper())\n",
        "print (frase.lower())\n",
        "print (frase)"
      ],
      "metadata": {
        "colab": {
          "base_uri": "https://localhost:8080/"
        },
        "id": "4-WgxZSuOROx",
        "outputId": "3d954123-54a7-4e0c-e961-7ef658cb6a7f"
      },
      "execution_count": 2,
      "outputs": [
        {
          "output_type": "stream",
          "name": "stdout",
          "text": [
            "LA CRISIS SE PRODUCE CUANDO LO VIEJO NO ACABA DE MORIR Y LO NUEVO NO ACABA DE NACER. - BERTOL BRECHT -\n",
            "la crisis se produce cuando lo viejo no acaba de morir y lo nuevo no acaba de nacer. - bertol brecht -\n",
            "La crisis se produce cuando lo viejo no acaba de morir y lo nuevo no acaba de nacer. - Bertol Brecht -\n"
          ]
        }
      ]
    },
    {
      "cell_type": "code",
      "source": [
        "frutos = [\"piña\",\"manzana\",\"uva\",\"pera\",\"guayaba\",\"papaya\",\"naranja\",\"frutos rojos\"]\n",
        "\n",
        "frutos.append(\"ciruela\")\n",
        "print(frutos)\n",
        "\n",
        "frutos.insert(3, \"coco\")\n",
        "print(frutos)\n",
        "\n",
        "frutos.sort()\n",
        "print(frutos)\n",
        "frutos.sort(reverse=True)\n",
        "print(frutos)\n",
        "frutos.reverse()\n",
        "print(frutos)\n",
        "frutos.remove(\"uva\")\n",
        "print(frutos)\n",
        "frutos.pop(2)\n",
        "print(frutos)\n"
      ],
      "metadata": {
        "colab": {
          "base_uri": "https://localhost:8080/"
        },
        "id": "BSqf8d_wQYGy",
        "outputId": "f3c35de2-183f-424d-cf77-ee5cb4837ffb"
      },
      "execution_count": 9,
      "outputs": [
        {
          "output_type": "stream",
          "name": "stdout",
          "text": [
            "['piña', 'manzana', 'uva', 'pera', 'guayaba', 'papaya', 'naranja', 'frutos rojos', 'ciruela']\n",
            "['piña', 'manzana', 'uva', 'coco', 'pera', 'guayaba', 'papaya', 'naranja', 'frutos rojos', 'ciruela']\n",
            "['ciruela', 'coco', 'frutos rojos', 'guayaba', 'manzana', 'naranja', 'papaya', 'pera', 'piña', 'uva']\n",
            "['uva', 'piña', 'pera', 'papaya', 'naranja', 'manzana', 'guayaba', 'frutos rojos', 'coco', 'ciruela']\n",
            "['ciruela', 'coco', 'frutos rojos', 'guayaba', 'manzana', 'naranja', 'papaya', 'pera', 'piña', 'uva']\n",
            "['ciruela', 'coco', 'frutos rojos', 'guayaba', 'manzana', 'naranja', 'papaya', 'pera', 'piña']\n",
            "['ciruela', 'coco', 'guayaba', 'manzana', 'naranja', 'papaya', 'pera', 'piña']\n"
          ]
        }
      ]
    },
    {
      "cell_type": "code",
      "source": [
        "alumnos = {\"Juan\":80,\"Pableo\": 95, \"Martha\":100}\n",
        "print(alumnos)\n",
        "\n",
        "alumnos[\"Mariana\"]= 75\n",
        "print(alumnos)\n",
        "\n",
        "alumnos[\"Juancho\"]= 84\n",
        "print(alumnos)"
      ],
      "metadata": {
        "colab": {
          "base_uri": "https://localhost:8080/"
        },
        "id": "q5cb2HjTcbPx",
        "outputId": "1ef7a46e-f5e5-4ca6-dc5d-adbc6f661e1f"
      },
      "execution_count": 8,
      "outputs": [
        {
          "output_type": "stream",
          "name": "stdout",
          "text": [
            "{'Juan': 80, 'Pableo': 95, 'Martha': 100}\n",
            "{'Juan': 80, 'Pableo': 95, 'Martha': 100, 'Mariana': 75}\n",
            "{'Juan': 80, 'Pableo': 95, 'Martha': 100, 'Mariana': 75, 'Juancho': 84}\n"
          ]
        }
      ]
    }
  ]
}